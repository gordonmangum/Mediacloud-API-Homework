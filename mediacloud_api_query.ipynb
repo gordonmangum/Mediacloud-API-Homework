{
 "cells": [
  {
   "cell_type": "code",
   "execution_count": 5,
   "metadata": {
    "collapsed": false
   },
   "outputs": [
    {
     "name": "stdout",
     "output_type": "stream",
     "text": [
      "7122\n"
     ]
    }
   ],
   "source": [
    "import mediacloud, datetime\n",
    "res = mc.sentenceCount('( \"black lives matter\" )', solr_filter=[mc.publish_date_query( datetime.date( 2015, 1, 1), datetime.date( 2015, 11, 12) ), 'media_sets_id:1' ])\n",
    "print res['count'] # prints the number of sentences found\n"
   ]
  },
  {
   "cell_type": "code",
   "execution_count": 4,
   "metadata": {
    "collapsed": false,
    "scrolled": true
   },
   "outputs": [
    {
     "name": "stdout",
     "output_type": "stream",
     "text": [
      "821\n"
     ]
    }
   ],
   "source": [
    "import mediacloud, datetime\n",
    "res = mc.sentenceCount('( \"all lives matter\" )', solr_filter=[mc.publish_date_query( datetime.date( 2015, 1, 1), datetime.date( 2015, 11, 12) ), 'media_sets_id:1' ])\n",
    "print res['count'] # prints the number of sentences found"
   ]
  },
  {
   "cell_type": "code",
   "execution_count": null,
   "metadata": {
    "collapsed": true
   },
   "outputs": [],
   "source": []
  }
 ],
 "metadata": {
  "kernelspec": {
   "display_name": "Python 2",
   "language": "python",
   "name": "python2"
  },
  "language_info": {
   "codemirror_mode": {
    "name": "ipython",
    "version": 2
   },
   "file_extension": ".py",
   "mimetype": "text/x-python",
   "name": "python",
   "nbconvert_exporter": "python",
   "pygments_lexer": "ipython2",
   "version": "2.7.10"
  }
 },
 "nbformat": 4,
 "nbformat_minor": 0
}
